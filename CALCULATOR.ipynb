{
 "cells": [
  {
   "cell_type": "code",
   "execution_count": null,
   "id": "bb6ddb3f",
   "metadata": {},
   "outputs": [],
   "source": [
    "def calculator():\n",
    "    print('''Select the operation as mentioned below:\n",
    "    Press '+' for addition\n",
    "    Press '-' for subtraction\n",
    "    Press '*' for multiplication\n",
    "    Press '/' for division''')\n",
    "\n",
    "    a = float(input('Enter the first number: '))\n",
    "    b = float(input('Enter the second number: '))\n",
    "\n",
    "    choice = input('Enter your choice: ')\n",
    "\n",
    "    if choice == '+':\n",
    "        print(f'Result: {a + b}')\n",
    "    elif choice == '-':\n",
    "        print(f'Result: {a - b}')\n",
    "    elif choice == '*':\n",
    "        print(f'Result: {a * b}')\n",
    "    elif choice == '/':\n",
    "        if b == 0:\n",
    "            print('Division by zero is not allowed.')\n",
    "        else:\n",
    "            print(f'Result: {a / b}')\n",
    "    else:\n",
    "        print('Invalid choice.')\n",
    "\n",
    "calculator()\n"
   ]
  }
 ],
 "metadata": {
  "kernelspec": {
   "display_name": "Python 3 (ipykernel)",
   "language": "python",
   "name": "python3"
  },
  "language_info": {
   "codemirror_mode": {
    "name": "ipython",
    "version": 3
   },
   "file_extension": ".py",
   "mimetype": "text/x-python",
   "name": "python",
   "nbconvert_exporter": "python",
   "pygments_lexer": "ipython3",
   "version": "3.11.3"
  }
 },
 "nbformat": 4,
 "nbformat_minor": 5
}
